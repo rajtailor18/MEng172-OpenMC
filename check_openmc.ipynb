{
 "cells": [
  {
   "cell_type": "code",
   "execution_count": null,
   "metadata": {},
   "outputs": [],
   "source": [
    "import openmc, os\n",
    "print('OpenMC:', openmc.__version__)\n",
    "print('OPENMC_CROSS_SECTIONS:', os.environ.get('OPENMC_CROSS_SECTIONS'))\n"
   ]
  }
 ],
 "metadata": {
  "kernelspec": {
   "display_name": "Python 3",
   "language": "python",
   "name": "python3"
  },
  "language_info": {
   "name": "python",
   "version": "3.11"
  }
 },
 "nbformat": 4,
 "nbformat_minor": 5
}